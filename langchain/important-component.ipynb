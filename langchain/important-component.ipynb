{
 "cells": [
  {
   "cell_type": "code",
   "execution_count": 1,
   "metadata": {},
   "outputs": [],
   "source": [
    "import os\n",
    "import ssl\n",
    "import dotenv\n",
    "\n",
    "dotenv.load_dotenv()\n",
    "ssl._create_default_https_context = ssl._create_unverified_context\n"
   ]
  },
  {
   "cell_type": "code",
   "execution_count": 3,
   "metadata": {},
   "outputs": [],
   "source": [
    "os.environ[\"OPENAI_API_KEY\"] = os.getenv(\"OPENAI_API_KEY\")\n",
    "os.environ[\"LANGSMITH_API_KEY\"] = os.getenv(\"LANGSMITH_API_KEY\")  # langsmith tracking\n",
    "os.environ[\"LANGSMITH_TRACING\"] = os.getenv(\"LANGSMITH_TRACING\")\n",
    "os.environ[\"LANGSMITH_PROJECT\"] = os.getenv(\"LANGSMITH_PROJECT\")\n",
    "os.environ[\"LANGSMITH_ENDPOINT\"] = os.getenv(\"LANGSMITH_ENDPOINT\")"
   ]
  },
  {
   "cell_type": "code",
   "execution_count": 6,
   "metadata": {},
   "outputs": [],
   "source": [
    "from langchain_openai import ChatOpenAI\n",
    "\n",
    "llm = ChatOpenAI(\n",
    "    api_key = os.environ[\"OPENAI_API_KEY\"],\n",
    "    model = \"gpt-4o\"\n",
    ")"
   ]
  },
  {
   "cell_type": "code",
   "execution_count": 8,
   "metadata": {},
   "outputs": [
    {
     "data": {
      "text/plain": [
       "'AHM / 2024 - 25 / 03'"
      ]
     },
     "execution_count": 8,
     "metadata": {},
     "output_type": "execute_result"
    }
   ],
   "source": [
    "llm.invoke(\n",
    "    \"\"\"You are an invoice analysis assistant. Based on the provided context, extract ONLY the invoice number.\n",
    "Do not include any explanation, formatting, or extra words. Just output the invoice number as it appears in the document.\n",
    "\n",
    "Context:\n",
    "9 , 85 , 231 . 98 54 , 73 , 511 . 00 Tax Amount\n",
    "References Dated Delivery Note Date Destination\n",
    "BANK A / c No . : 7011645010 Branch  &  IFS Code\n",
    "Invoice No . AHM / 2024 - 25 / 03 Delivery Note\n",
    "    \"\"\"\n",
    ").content"
   ]
  },
  {
   "cell_type": "code",
   "execution_count": 10,
   "metadata": {},
   "outputs": [],
   "source": [
    "## Prompt template\n",
    "from langchain_core.prompts import ChatPromptTemplate\n",
    "\n",
    "prompt = ChatPromptTemplate.from_messages(\n",
    "    [\n",
    "        (\n",
    "            \"system\",\n",
    "            \"you are a invoice analytics expert, provide me answer based on the question asked\"\n",
    "        ),\n",
    "        (\n",
    "            \"user\",\n",
    "            \"{input_question}\"\n",
    "        )\n",
    "    ]\n",
    ")\n",
    "input_question = \"How to extract invoice date\"\n"
   ]
  },
  {
   "cell_type": "code",
   "execution_count": 11,
   "metadata": {},
   "outputs": [
    {
     "data": {
      "text/plain": [
       "ChatPromptTemplate(input_variables=['input_question'], input_types={}, partial_variables={}, messages=[SystemMessagePromptTemplate(prompt=PromptTemplate(input_variables=[], input_types={}, partial_variables={}, template='you are a invoice analytics expert, provide me answer based on the question asked'), additional_kwargs={}), HumanMessagePromptTemplate(prompt=PromptTemplate(input_variables=['input_question'], input_types={}, partial_variables={}, template='{input_question}'), additional_kwargs={})])"
      ]
     },
     "execution_count": 11,
     "metadata": {},
     "output_type": "execute_result"
    }
   ],
   "source": [
    "prompt"
   ]
  },
  {
   "cell_type": "code",
   "execution_count": 12,
   "metadata": {},
   "outputs": [],
   "source": [
    "chain = prompt | llm"
   ]
  },
  {
   "cell_type": "code",
   "execution_count": 13,
   "metadata": {},
   "outputs": [
    {
     "data": {
      "text/plain": [
       "ChatPromptTemplate(input_variables=['input_question'], input_types={}, partial_variables={}, messages=[SystemMessagePromptTemplate(prompt=PromptTemplate(input_variables=[], input_types={}, partial_variables={}, template='you are a invoice analytics expert, provide me answer based on the question asked'), additional_kwargs={}), HumanMessagePromptTemplate(prompt=PromptTemplate(input_variables=['input_question'], input_types={}, partial_variables={}, template='{input_question}'), additional_kwargs={})])\n",
       "| ChatOpenAI(client=<openai.resources.chat.completions.completions.Completions object at 0x115f633d0>, async_client=<openai.resources.chat.completions.completions.AsyncCompletions object at 0x116b0af90>, root_client=<openai.OpenAI object at 0x116b00510>, root_async_client=<openai.AsyncOpenAI object at 0x115f57990>, model_name='gpt-4o', model_kwargs={}, openai_api_key=SecretStr('**********'))"
      ]
     },
     "execution_count": 13,
     "metadata": {},
     "output_type": "execute_result"
    }
   ],
   "source": [
    "chain"
   ]
  },
  {
   "cell_type": "code",
   "execution_count": 14,
   "metadata": {},
   "outputs": [],
   "source": [
    "response = chain.invoke(\n",
    "    {\n",
    "        \"input_question\":input_question\n",
    "    }\n",
    ")"
   ]
  },
  {
   "cell_type": "code",
   "execution_count": 17,
   "metadata": {},
   "outputs": [
    {
     "name": "stdout",
     "output_type": "stream",
     "text": [
      "Extracting an invoice date can depend on the format and source of the invoice data. Here are common methods to extract invoice dates:\n",
      "\n",
      "1. **From a Digital PDF:**\n",
      "   - **Optical Character Recognition (OCR):** Use OCR software like Adobe Acrobat, Tesseract, or online OCR tools to convert the text from a scanned PDF into a machine-readable format.\n",
      "   - **Text Parsing:** Once converted to text, use regular expressions (regex) or text parsing libraries in Python (such as nltk or re) to identify and extract the date based on common date formats (e.g., mm/dd/yyyy, dd-mm-yyyy).\n",
      "\n",
      "2. **From a Spreadsheet (Excel, CSV):**\n",
      "   - **Direct Access:** If the invoice data is structured in a spreadsheet, you can directly access and read the date from the specific cell or column allocated for invoice dates.\n",
      "   - **Data Filtering:** Use Excel formulas or Python libraries like pandas to filter and extract the required date entries.\n",
      "\n",
      "3. **From an ERP or Accounting System:**\n",
      "   - **APIs:** Many accounting or ERP systems provide APIs to fetch invoice data programmatically. Retrieve the invoice using the API and parse the JSON/XML response to extract the date.\n",
      "   - **Database Queries:** If direct database access is allowed, use SQL queries to extract the invoice date from relevant tables.\n",
      "\n",
      "4. **From Email Attachments:**\n",
      "   - **Email Automation:** Use tools like Microsoft Power Automate or Python libraries such as `imaplib` and `email` to fetch and extract attachments.\n",
      "   - **Extract and Analyze:** After retrieving the attachment, apply the above-mentioned methods (OCR, parsing) to extract the date from the invoice document.\n",
      "\n",
      "In all these methods, ensure to implement error handling for different date formats and verify the accuracy of the extracted date according to your business rules and requirements.\n"
     ]
    }
   ],
   "source": [
    "print(response.content)"
   ]
  },
  {
   "cell_type": "code",
   "execution_count": 18,
   "metadata": {},
   "outputs": [
    {
     "name": "stdout",
     "output_type": "stream",
     "text": [
      "To extract an invoice date from an invoice document, you can use several methods depending on the format of the invoice (e.g., PDF, image, digital file) and the tools available to you:\n",
      "\n",
      "1. **Optical Character Recognition (OCR):** \n",
      "   - If the invoice is in an image-based format (like PDF scans or photos), use OCR tools like Adobe Acrobat, Tesseract, Google Cloud Vision, or AWS Textract to convert the image text into machine-readable text.\n",
      "   - Once the text is extracted, employ text parsing techniques to locate the invoice date.\n",
      "\n",
      "2. **Regular Expressions (Regex):**\n",
      "   - Develop a regex pattern to identify date formats typically used in invoices, such as \"MM/DD/YYYY,\" \"DD/MM/YYYY,\" or \"YYYY-MM-DD.\"\n",
      "   - Search through the extracted or digital text for matches.\n",
      "\n",
      "3. **Natural Language Processing (NLP):**\n",
      "   - Use NLP libraries like SpaCy or NLTK to identify date entities in the text.\n",
      "   - These libraries have pre-trained models that can recognize dates and other entities within a body of text.\n",
      "\n",
      "4. **Predefined Keywords:**\n",
      "   - Look for keywords commonly associated with invoice dates such as \"Invoice Date:\", \"Date of Issue:\", or \"Billing Date:\" and extract the subsequent date value.\n",
      "\n",
      "5. **Machine Learning:**\n",
      "   - Implement a machine learning model trained on a dataset of invoices to predict and extract the invoice date based on surrounding text patterns.\n",
      "\n",
      "It’s essential to ensure the correct date format and context, as invoices might also contain dates for due, delivery, or order that could be mistakenly identified as invoice dates. Regular audits and validations with domain experts or business rules are advisable to maintain accuracy.\n"
     ]
    }
   ],
   "source": [
    "from langchain_core.output_parsers import StrOutputParser\n",
    "\n",
    "output_parser = StrOutputParser()\n",
    "chain = prompt|llm|output_parser\n",
    "response = chain.invoke(\n",
    "    {\n",
    "        \"input_question\":input_question\n",
    "    }\n",
    ")\n",
    "print(response)"
   ]
  },
  {
   "cell_type": "code",
   "execution_count": null,
   "metadata": {},
   "outputs": [],
   "source": []
  }
 ],
 "metadata": {
  "kernelspec": {
   "display_name": "genai",
   "language": "python",
   "name": "python3"
  },
  "language_info": {
   "codemirror_mode": {
    "name": "ipython",
    "version": 3
   },
   "file_extension": ".py",
   "mimetype": "text/x-python",
   "name": "python",
   "nbconvert_exporter": "python",
   "pygments_lexer": "ipython3",
   "version": "3.11.4"
  }
 },
 "nbformat": 4,
 "nbformat_minor": 2
}
