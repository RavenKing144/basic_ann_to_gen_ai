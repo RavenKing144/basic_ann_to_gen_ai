{
 "cells": [
  {
   "cell_type": "code",
   "execution_count": 5,
   "metadata": {},
   "outputs": [],
   "source": [
    "from langchain_community.document_loaders import TextLoader\n",
    "from langchain_text_splitters import CharacterTextSplitter\n",
    "from langchain_community.vectorstores import FAISS\n",
    "from langchain_community.embeddings import OllamaEmbeddings"
   ]
  },
  {
   "cell_type": "code",
   "execution_count": 6,
   "metadata": {},
   "outputs": [
    {
     "name": "stderr",
     "output_type": "stream",
     "text": [
      "Created a chunk of size 1698, which is longer than the specified 1000\n",
      "Created a chunk of size 1155, which is longer than the specified 1000\n",
      "Created a chunk of size 1345, which is longer than the specified 1000\n",
      "Created a chunk of size 1432, which is longer than the specified 1000\n",
      "Created a chunk of size 1518, which is longer than the specified 1000\n",
      "Created a chunk of size 1212, which is longer than the specified 1000\n",
      "Created a chunk of size 2123, which is longer than the specified 1000\n",
      "Created a chunk of size 1456, which is longer than the specified 1000\n",
      "Created a chunk of size 1267, which is longer than the specified 1000\n",
      "Created a chunk of size 2498, which is longer than the specified 1000\n",
      "Created a chunk of size 1533, which is longer than the specified 1000\n",
      "Created a chunk of size 1139, which is longer than the specified 1000\n",
      "Created a chunk of size 1049, which is longer than the specified 1000\n",
      "Created a chunk of size 1418, which is longer than the specified 1000\n",
      "Created a chunk of size 1319, which is longer than the specified 1000\n",
      "Created a chunk of size 1655, which is longer than the specified 1000\n",
      "Created a chunk of size 1010, which is longer than the specified 1000\n",
      "Created a chunk of size 1172, which is longer than the specified 1000\n",
      "Created a chunk of size 1022, which is longer than the specified 1000\n",
      "Created a chunk of size 1054, which is longer than the specified 1000\n"
     ]
    }
   ],
   "source": [
    "text_splitter = CharacterTextSplitter(\n",
    "    chunk_size=1000,\n",
    "    chunk_overlap=200\n",
    ")\n",
    "docs = text_splitter.split_documents(TextLoader(\"data/text-ingestion-hamlet.txt\").load())\n",
    "\n"
   ]
  },
  {
   "cell_type": "code",
   "execution_count": 10,
   "metadata": {},
   "outputs": [],
   "source": [
    "embeddings = (\n",
    "    OllamaEmbeddings(\n",
    "        model = \"gemma:2b\"\n",
    "    )\n",
    ")\n",
    "db = FAISS.from_documents(\n",
    "    docs, embedding=embeddings\n",
    ")"
   ]
  },
  {
   "cell_type": "code",
   "execution_count": 11,
   "metadata": {},
   "outputs": [],
   "source": [
    "query = \"\"\"Hor. Two nights together, had these Gentlemen\n",
    "(Marcellus and Barnardo) on their Watch\n",
    "In the dead wast and middle of the night\n",
    "Beene thus encountred. A figure like your Father\"\"\"\n",
    "\n",
    "result = db.similarity_search(\n",
    "    query,\n",
    "    k=1\n",
    ")"
   ]
  },
  {
   "cell_type": "code",
   "execution_count": 16,
   "metadata": {},
   "outputs": [
    {
     "name": "stdout",
     "output_type": "stream",
     "text": [
      "A Noise within.\n",
      "\n",
      "Enter a Messenger.\n",
      "\n",
      "  Qu. Alacke, what noyse is this?\n",
      "  King. Where are my Switzers?\n",
      "Let them guard the doore. What is the matter?\n",
      "  Mes. Saue your selfe, my Lord.\n",
      "The Ocean (ouer-peering of his List)\n",
      "Eates not the Flats with more impittious haste\n",
      "Then young Laertes, in a Riotous head,\n",
      "Ore-beares your Officers, the rabble call him Lord,\n",
      "And as the world were now but to begin,\n",
      "Antiquity forgot, Custome not knowne,\n",
      "The Ratifiers and props of euery word,\n",
      "They cry choose we? Laertes shall be King,\n",
      "Caps, hands, and tongues, applaud it to the clouds,\n",
      "Laertes shall be King, Laertes King\n",
      "\n",
      "   Qu. How cheerefully on the false Traile they cry,\n",
      "Oh this is Counter you false Danish Dogges.\n",
      "\n",
      "Noise within. Enter Laertes.\n",
      "\n",
      "  King. The doores are broke\n",
      "\n",
      "   Laer. Where is the King, sirs? Stand you all without\n",
      "\n",
      "   All. No, let's come in\n",
      "\n",
      "   Laer. I pray you giue me leaue\n",
      "\n",
      "   Al. We will, we will\n",
      "\n",
      "   Laer. I thanke you: Keepe the doore.\n",
      "Oh thou vilde King, giue me my Father\n"
     ]
    }
   ],
   "source": [
    "print(result[0].page_content)"
   ]
  },
  {
   "cell_type": "code",
   "execution_count": 17,
   "metadata": {},
   "outputs": [
    {
     "data": {
      "text/plain": [
       "[Document(id='24c35153-3910-4339-b777-b8b94a86cce2', metadata={'source': 'data/text-ingestion-hamlet.txt'}, page_content=\"A Noise within.\\n\\nEnter a Messenger.\\n\\n  Qu. Alacke, what noyse is this?\\n  King. Where are my Switzers?\\nLet them guard the doore. What is the matter?\\n  Mes. Saue your selfe, my Lord.\\nThe Ocean (ouer-peering of his List)\\nEates not the Flats with more impittious haste\\nThen young Laertes, in a Riotous head,\\nOre-beares your Officers, the rabble call him Lord,\\nAnd as the world were now but to begin,\\nAntiquity forgot, Custome not knowne,\\nThe Ratifiers and props of euery word,\\nThey cry choose we? Laertes shall be King,\\nCaps, hands, and tongues, applaud it to the clouds,\\nLaertes shall be King, Laertes King\\n\\n   Qu. How cheerefully on the false Traile they cry,\\nOh this is Counter you false Danish Dogges.\\n\\nNoise within. Enter Laertes.\\n\\n  King. The doores are broke\\n\\n   Laer. Where is the King, sirs? Stand you all without\\n\\n   All. No, let's come in\\n\\n   Laer. I pray you giue me leaue\\n\\n   Al. We will, we will\\n\\n   Laer. I thanke you: Keepe the doore.\\nOh thou vilde King, giue me my Father\"),\n",
       " Document(id='f047ec5f-b0ab-41ec-9149-b722292a3301', metadata={'source': 'data/text-ingestion-hamlet.txt'}, page_content=\"Reynol. But my good Lord\\n\\n   Polon. Wherefore should you doe this?\\n  Reynol. I my Lord, I would know that\\n\\n   Polon. Marry Sir, heere's my drift,\\nAnd I belieue it is a fetch of warrant:\\nYou laying these slight sulleyes on my Sonne,\\nAs 'twere a thing a little soil'd i'th' working:\\nMarke you your party in conuerse; him you would sound,\\nHauing euer seene. In the prenominate crimes,\\nThe youth you breath of guilty, be assur'd\\nHe closes with you in this consequence:\\nGood sir, or so, or friend, or Gentleman.\\nAccording to the Phrase and the Addition,\\nOf man and Country\\n\\n   Reynol. Very good my Lord\\n\\n   Polon. And then Sir does he this?\\nHe does: what was I about to say?\\nI was about say somthing: where did I leaue?\\n  Reynol. At closes in the consequence:\\nAt friend, or so, and Gentleman\"),\n",
       " Document(id='4539e4ec-8ab9-42af-9141-61267d97120d', metadata={'source': 'data/text-ingestion-hamlet.txt'}, page_content=\"Rosin. We shall my Lord.\\n\\nExeunt.\\n\\n  King. Sweet Gertrude leaue vs too,\\nFor we haue closely sent for Hamlet hither,\\nThat he, as 'twere by accident, may there\\nAffront Ophelia. Her Father, and my selfe (lawful espials)\\nWill so bestow our selues, that seeing vnseene\\nWe may of their encounter frankely iudge,\\nAnd gather by him, as he is behaued,\\nIf't be th' affliction of his loue, or no.\\nThat thus he suffers for\\n\\n   Qu. I shall obey you,\\nAnd for your part Ophelia, I do wish\\nThat your good Beauties be the happy cause\\nOf Hamlets wildenesse: so shall I hope your Vertues\\nWill bring him to his wonted way againe,\\nTo both your Honors\\n\\n   Ophe. Madam, I wish it may\\n\\n   Pol. Ophelia, walke you heere. Gracious so please ye\\nWe will bestow our selues: Reade on this booke,\\nThat shew of such an exercise may colour\\nYour lonelinesse. We are oft too blame in this,\\n'Tis too much prou'd, that with Deuotions visage,\\nAnd pious Action, we do surge o're\\nThe diuell himselfe\"),\n",
       " Document(id='64298b62-4769-47ea-864d-e34d85954cb3', metadata={'source': 'data/text-ingestion-hamlet.txt'}, page_content=\"Hora. Well my Lord.\\nIf he steale ought the whil'st this Play is Playing,\\nAnd scape detecting, I will pay the Theft.\\nEnter King, Queene, Polonius, Ophelia, Rosincrance,\\nGuildensterne, and\\nother Lords attendant with his Guard carrying Torches. Danish\\nMarch. Sound\\na Flourish.\\n\\n  Ham. They are comming to the Play: I must be idle.\\nGet you a place\\n\\n   King. How fares our Cosin Hamlet?\\n  Ham. Excellent Ifaith, of the Camelions dish: I eate\\nthe Ayre promise-cramm'd, you cannot feed Capons so\\n\\n   King. I haue nothing with this answer Hamlet, these\\nwords are not mine\\n\\n   Ham. No, nor mine. Now my Lord, you plaid once\\ni'th' Vniuersity, you say?\\n  Polon. That I did my Lord, and was accounted a good\\nActor\\n\\n   Ham. And what did you enact?\\n  Pol. I did enact Iulius Caesar, I was kill'd i'th' Capitol:\\nBrutus kill'd me\\n\\n   Ham. It was a bruite part of him, to kill so Capitall a\\nCalfe there. Be the Players ready?\\n  Rosin. I my Lord, they stay vpon your patience\")]"
      ]
     },
     "execution_count": 17,
     "metadata": {},
     "output_type": "execute_result"
    }
   ],
   "source": [
    "retriever = db.as_retriever()\n",
    "retriever.invoke(query)"
   ]
  },
  {
   "cell_type": "code",
   "execution_count": 18,
   "metadata": {},
   "outputs": [],
   "source": [
    "result = db.similarity_search_with_score(\n",
    "    query,\n",
    "    k=1\n",
    ")"
   ]
  },
  {
   "cell_type": "code",
   "execution_count": 19,
   "metadata": {},
   "outputs": [
    {
     "data": {
      "text/plain": [
       "[(Document(id='24c35153-3910-4339-b777-b8b94a86cce2', metadata={'source': 'data/text-ingestion-hamlet.txt'}, page_content=\"A Noise within.\\n\\nEnter a Messenger.\\n\\n  Qu. Alacke, what noyse is this?\\n  King. Where are my Switzers?\\nLet them guard the doore. What is the matter?\\n  Mes. Saue your selfe, my Lord.\\nThe Ocean (ouer-peering of his List)\\nEates not the Flats with more impittious haste\\nThen young Laertes, in a Riotous head,\\nOre-beares your Officers, the rabble call him Lord,\\nAnd as the world were now but to begin,\\nAntiquity forgot, Custome not knowne,\\nThe Ratifiers and props of euery word,\\nThey cry choose we? Laertes shall be King,\\nCaps, hands, and tongues, applaud it to the clouds,\\nLaertes shall be King, Laertes King\\n\\n   Qu. How cheerefully on the false Traile they cry,\\nOh this is Counter you false Danish Dogges.\\n\\nNoise within. Enter Laertes.\\n\\n  King. The doores are broke\\n\\n   Laer. Where is the King, sirs? Stand you all without\\n\\n   All. No, let's come in\\n\\n   Laer. I pray you giue me leaue\\n\\n   Al. We will, we will\\n\\n   Laer. I thanke you: Keepe the doore.\\nOh thou vilde King, giue me my Father\"),\n",
       "  1614.0254)]"
      ]
     },
     "execution_count": 19,
     "metadata": {},
     "output_type": "execute_result"
    }
   ],
   "source": [
    "result"
   ]
  },
  {
   "cell_type": "code",
   "execution_count": 20,
   "metadata": {},
   "outputs": [
    {
     "name": "stderr",
     "output_type": "stream",
     "text": [
      "/var/folders/jj/z9jhw1z95m5bwpgdbhgbvct40000gn/T/ipykernel_22400/3528657398.py:1: UserWarning: Relevance scores must be between 0 and 1, got [(Document(id='24c35153-3910-4339-b777-b8b94a86cce2', metadata={'source': 'data/text-ingestion-hamlet.txt'}, page_content=\"A Noise within.\\n\\nEnter a Messenger.\\n\\n  Qu. Alacke, what noyse is this?\\n  King. Where are my Switzers?\\nLet them guard the doore. What is the matter?\\n  Mes. Saue your selfe, my Lord.\\nThe Ocean (ouer-peering of his List)\\nEates not the Flats with more impittious haste\\nThen young Laertes, in a Riotous head,\\nOre-beares your Officers, the rabble call him Lord,\\nAnd as the world were now but to begin,\\nAntiquity forgot, Custome not knowne,\\nThe Ratifiers and props of euery word,\\nThey cry choose we? Laertes shall be King,\\nCaps, hands, and tongues, applaud it to the clouds,\\nLaertes shall be King, Laertes King\\n\\n   Qu. How cheerefully on the false Traile they cry,\\nOh this is Counter you false Danish Dogges.\\n\\nNoise within. Enter Laertes.\\n\\n  King. The doores are broke\\n\\n   Laer. Where is the King, sirs? Stand you all without\\n\\n   All. No, let's come in\\n\\n   Laer. I pray you giue me leaue\\n\\n   Al. We will, we will\\n\\n   Laer. I thanke you: Keepe the doore.\\nOh thou vilde King, giue me my Father\"), -1140.2882987182036)]\n",
      "  result = db.similarity_search_with_relevance_scores(\n"
     ]
    }
   ],
   "source": [
    "result = db.similarity_search_with_relevance_scores(\n",
    "    query,\n",
    "    k=1\n",
    ")"
   ]
  },
  {
   "cell_type": "code",
   "execution_count": 21,
   "metadata": {},
   "outputs": [
    {
     "data": {
      "text/plain": [
       "[(Document(id='24c35153-3910-4339-b777-b8b94a86cce2', metadata={'source': 'data/text-ingestion-hamlet.txt'}, page_content=\"A Noise within.\\n\\nEnter a Messenger.\\n\\n  Qu. Alacke, what noyse is this?\\n  King. Where are my Switzers?\\nLet them guard the doore. What is the matter?\\n  Mes. Saue your selfe, my Lord.\\nThe Ocean (ouer-peering of his List)\\nEates not the Flats with more impittious haste\\nThen young Laertes, in a Riotous head,\\nOre-beares your Officers, the rabble call him Lord,\\nAnd as the world were now but to begin,\\nAntiquity forgot, Custome not knowne,\\nThe Ratifiers and props of euery word,\\nThey cry choose we? Laertes shall be King,\\nCaps, hands, and tongues, applaud it to the clouds,\\nLaertes shall be King, Laertes King\\n\\n   Qu. How cheerefully on the false Traile they cry,\\nOh this is Counter you false Danish Dogges.\\n\\nNoise within. Enter Laertes.\\n\\n  King. The doores are broke\\n\\n   Laer. Where is the King, sirs? Stand you all without\\n\\n   All. No, let's come in\\n\\n   Laer. I pray you giue me leaue\\n\\n   Al. We will, we will\\n\\n   Laer. I thanke you: Keepe the doore.\\nOh thou vilde King, giue me my Father\"),\n",
       "  -1140.2882987182036)]"
      ]
     },
     "execution_count": 21,
     "metadata": {},
     "output_type": "execute_result"
    }
   ],
   "source": [
    "result"
   ]
  },
  {
   "cell_type": "code",
   "execution_count": null,
   "metadata": {},
   "outputs": [],
   "source": []
  }
 ],
 "metadata": {
  "kernelspec": {
   "display_name": "genai",
   "language": "python",
   "name": "python3"
  },
  "language_info": {
   "codemirror_mode": {
    "name": "ipython",
    "version": 3
   },
   "file_extension": ".py",
   "mimetype": "text/x-python",
   "name": "python",
   "nbconvert_exporter": "python",
   "pygments_lexer": "ipython3",
   "version": "3.11.4"
  }
 },
 "nbformat": 4,
 "nbformat_minor": 2
}
