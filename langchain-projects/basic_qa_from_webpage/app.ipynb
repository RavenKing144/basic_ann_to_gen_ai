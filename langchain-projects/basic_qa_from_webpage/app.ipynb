{
 "cells": [
  {
   "cell_type": "code",
   "execution_count": 1,
   "metadata": {},
   "outputs": [],
   "source": [
    "import os\n",
    "from dotenv import load_dotenv\n",
    "\n",
    "load_dotenv()\n",
    "\n",
    "os.environ[\"OPENAI_API_KEY\"] = os.getenv(\"OPENAI_API_KEY\")\n",
    "os.environ[\"LANGSMITH_API_KEY\"] = os.getenv(\"LANGSMITH_API_KEY\")  # langsmith tracking\n",
    "os.environ[\"LANGSMITH_TRACING\"] = os.getenv(\"LANGSMITH_TRACING\")\n",
    "os.environ[\"LANGSMITH_PROJECT\"] = os.getenv(\"LANGSMITH_PROJECT\")\n",
    "os.environ[\"LANGSMITH_ENDPOINT\"] = os.getenv(\"LANGSMITH_ENDPOINT\")"
   ]
  },
  {
   "cell_type": "code",
   "execution_count": 3,
   "metadata": {},
   "outputs": [],
   "source": [
    "# Data Ingestion (scrape data from webpage)\n",
    "\n",
    "from langchain_community.document_loaders import WebBaseLoader\n"
   ]
  },
  {
   "cell_type": "code",
   "execution_count": 4,
   "metadata": {},
   "outputs": [],
   "source": [
    "loader = WebBaseLoader(\n",
    "    \"https://docs.smith.langchain.com/administration/how_to_guides\"\n",
    ")"
   ]
  },
  {
   "cell_type": "code",
   "execution_count": 5,
   "metadata": {},
   "outputs": [
    {
     "data": {
      "text/plain": [
       "[Document(metadata={'source': 'https://docs.smith.langchain.com/administration/how_to_guides', 'title': 'Administration how-to guides | 🦜️🛠️ LangSmith', 'description': 'Step-by-step guides that cover key tasks and operations in LangSmith.', 'language': 'en'}, page_content='\\n\\n\\n\\n\\nAdministration how-to guides | 🦜️🛠️ LangSmith\\n\\n\\n\\n\\n\\n\\nSkip to main contentJoin us at  Interrupt: The Agent AI Conference by LangChain on May 13 & 14 in San Francisco!API ReferenceRESTPythonJS/TSSearchRegionUSEUGo to AppGet StartedObservabilityEvaluationPrompt EngineeringDeployment (LangGraph Platform)AdministrationTutorialsOptimize tracing spend on LangSmithHow-to GuidesSetupConceptual GuideSelf-hostingPricingReferenceCloud architecture and scalabilityAuthz and AuthnAuthentication methodsdata_formatsEvaluationDataset transformationsRegions FAQsdk_referenceAdministrationHow-to GuidesOn this pageAdministration how-to guides\\nStep-by-step guides that cover key tasks and operations in LangSmith.\\nOrganization Management\\u200b\\nSee the following guides to set up your LangSmith account.\\n\\nCreate an account and API key\\nSet up an organization\\n\\nCreate an organization\\nManage and navigate workspaces\\nManage users\\nManage your organization using the API\\n\\n\\nSet up a workspace\\n\\nCreate a workspace\\nManage users\\nConfigure workspace settings\\n\\n\\nSet up billing\\nUpdate invoice email, tax id and, business information\\nSet up access control (enterprise only)\\n\\nCreate a role\\nAssign a role to a user\\n\\n\\nSet up resource tags\\n\\nCreate a tag\\nAssign a tag to a resource\\nDelete a tag\\nFilter resources by tags\\n\\n\\nWas this page helpful?You can leave detailed feedback on GitHub.PreviousOptimize tracing spend on LangSmithNextCreate an account and API keyOrganization ManagementCommunityDiscordTwitterGitHubDocs CodeLangSmith SDKPythonJS/TSMoreHomepageBlogLangChain Python DocsLangChain JS/TS DocsCopyright © 2025 LangChain, Inc.\\n\\n')]"
      ]
     },
     "execution_count": 5,
     "metadata": {},
     "output_type": "execute_result"
    }
   ],
   "source": [
    "loader.load()"
   ]
  },
  {
   "cell_type": "code",
   "execution_count": 9,
   "metadata": {},
   "outputs": [],
   "source": [
    "## Chunking\n",
    "from langchain_text_splitters import RecursiveCharacterTextSplitter\n",
    "\n",
    "splitter = RecursiveCharacterTextSplitter(\n",
    "    chunk_size = 1000,\n",
    "    chunk_overlap = 200\n",
    ")\n",
    "documents = splitter.split_documents(loader.load())"
   ]
  },
  {
   "cell_type": "code",
   "execution_count": 10,
   "metadata": {},
   "outputs": [],
   "source": [
    "## Embedding creation\n",
    "\n",
    "from langchain_openai import OpenAIEmbeddings\n",
    "\n",
    "embeddings = OpenAIEmbeddings()"
   ]
  },
  {
   "cell_type": "code",
   "execution_count": null,
   "metadata": {},
   "outputs": [],
   "source": [
    "## Vector store creation\n",
    "\n",
    "from langchain_community.vectorstores import FAISS \n",
    "\n",
    "db = FAISS.from_documents(\n",
    "    documents,\n",
    "    embeddings\n",
    ")"
   ]
  },
  {
   "cell_type": "code",
   "execution_count": null,
   "metadata": {},
   "outputs": [],
   "source": [
    "## query from vector store\n",
    "\n",
    "query = \"Step-by-step guides that cover key tasks and operations in LangSmith.\"\n",
    "\n",
    "result = db.similarity_search(\n",
    "    query=query\n",
    ")"
   ]
  },
  {
   "cell_type": "code",
   "execution_count": 15,
   "metadata": {},
   "outputs": [
    {
     "data": {
      "text/plain": [
       "'Administration how-to guides | 🦜️🛠️ LangSmith\\n\\n\\n\\n\\n\\n\\nSkip to main contentJoin us at  Interrupt: The Agent AI Conference by LangChain on May 13 & 14 in San Francisco!API ReferenceRESTPythonJS/TSSearchRegionUSEUGo to AppGet StartedObservabilityEvaluationPrompt EngineeringDeployment (LangGraph Platform)AdministrationTutorialsOptimize tracing spend on LangSmithHow-to GuidesSetupConceptual GuideSelf-hostingPricingReferenceCloud architecture and scalabilityAuthz and AuthnAuthentication methodsdata_formatsEvaluationDataset transformationsRegions FAQsdk_referenceAdministrationHow-to GuidesOn this pageAdministration how-to guides\\nStep-by-step guides that cover key tasks and operations in LangSmith.\\nOrganization Management\\u200b\\nSee the following guides to set up your LangSmith account.\\n\\nCreate an account and API key\\nSet up an organization\\n\\nCreate an organization\\nManage and navigate workspaces\\nManage users\\nManage your organization using the API\\n\\n\\nSet up a workspace'"
      ]
     },
     "execution_count": 15,
     "metadata": {},
     "output_type": "execute_result"
    }
   ],
   "source": [
    "result[0].page_content"
   ]
  },
  {
   "cell_type": "code",
   "execution_count": 18,
   "metadata": {},
   "outputs": [],
   "source": [
    "from langchain.chains.combine_documents import create_stuff_documents_chain\n",
    "from langchain_core.prompts import ChatPromptTemplate\n",
    "\n",
    "# prompt creation\n",
    "prompt = ChatPromptTemplate.from_messages([\n",
    "    (\"system\", \"You are a helpful assistant.\"),\n",
    "    (\"human\", \"\"\"Answer the following questions based only on the provided context:\n",
    "<context>\n",
    "{context}\n",
    "</context>\"\"\")\n",
    "])\n",
    "\n",
    "# llm setup\n",
    "from langchain_openai import ChatOpenAI\n",
    "llm = ChatOpenAI(\n",
    "    model=\"gpt-4o\"\n",
    ")\n",
    "\n",
    "# retrival chain\n",
    "document_chain = create_stuff_documents_chain(\n",
    "    llm=llm,\n",
    "    prompt=prompt\n",
    ")\n",
    "\n",
    "from langchain_core.documents import Document\n",
    "result = document_chain.invoke(\n",
    "    {\n",
    "        \"input\":query,\n",
    "        \"context\": [\n",
    "            Document(page_content=query)\n",
    "        ]\n",
    "    }\n",
    ")"
   ]
  },
  {
   "cell_type": "code",
   "execution_count": 19,
   "metadata": {},
   "outputs": [
    {
     "data": {
      "text/plain": [
       "'Certainly! Please go ahead and ask your questions related to the step-by-step guides and tasks in LangSmith.'"
      ]
     },
     "execution_count": 19,
     "metadata": {},
     "output_type": "execute_result"
    }
   ],
   "source": [
    "result"
   ]
  },
  {
   "cell_type": "code",
   "execution_count": 20,
   "metadata": {},
   "outputs": [],
   "source": [
    "## Retriver\n",
    "retriver = db.as_retriever()\n",
    "\n",
    "from langchain.chains import create_retrieval_chain \n",
    "retriever_chain = create_retrieval_chain(\n",
    "    retriver,\n",
    "    document_chain\n",
    ")"
   ]
  },
  {
   "cell_type": "code",
   "execution_count": 22,
   "metadata": {},
   "outputs": [],
   "source": [
    "response = retriever_chain.invoke(\n",
    "    {\n",
    "        \"input\":query\n",
    "    }\n",
    ")"
   ]
  },
  {
   "cell_type": "code",
   "execution_count": 23,
   "metadata": {},
   "outputs": [
    {
     "data": {
      "text/plain": [
       "{'input': 'Step-by-step guides that cover key tasks and operations in LangSmith.',\n",
       " 'context': [Document(id='6c0431e6-428a-4a52-b02e-3fc4ddc02352', metadata={'source': 'https://docs.smith.langchain.com/administration/how_to_guides', 'title': 'Administration how-to guides | 🦜️🛠️ LangSmith', 'description': 'Step-by-step guides that cover key tasks and operations in LangSmith.', 'language': 'en'}, page_content='Administration how-to guides | 🦜️🛠️ LangSmith\\n\\n\\n\\n\\n\\n\\nSkip to main contentJoin us at  Interrupt: The Agent AI Conference by LangChain on May 13 & 14 in San Francisco!API ReferenceRESTPythonJS/TSSearchRegionUSEUGo to AppGet StartedObservabilityEvaluationPrompt EngineeringDeployment (LangGraph Platform)AdministrationTutorialsOptimize tracing spend on LangSmithHow-to GuidesSetupConceptual GuideSelf-hostingPricingReferenceCloud architecture and scalabilityAuthz and AuthnAuthentication methodsdata_formatsEvaluationDataset transformationsRegions FAQsdk_referenceAdministrationHow-to GuidesOn this pageAdministration how-to guides\\nStep-by-step guides that cover key tasks and operations in LangSmith.\\nOrganization Management\\u200b\\nSee the following guides to set up your LangSmith account.\\n\\nCreate an account and API key\\nSet up an organization\\n\\nCreate an organization\\nManage and navigate workspaces\\nManage users\\nManage your organization using the API\\n\\n\\nSet up a workspace'),\n",
       "  Document(id='cd873cb7-b98b-45cf-b5c6-adcff100984a', metadata={'source': 'https://docs.smith.langchain.com/administration/how_to_guides', 'title': 'Administration how-to guides | 🦜️🛠️ LangSmith', 'description': 'Step-by-step guides that cover key tasks and operations in LangSmith.', 'language': 'en'}, page_content='Create an account and API key\\nSet up an organization\\n\\nCreate an organization\\nManage and navigate workspaces\\nManage users\\nManage your organization using the API\\n\\n\\nSet up a workspace\\n\\nCreate a workspace\\nManage users\\nConfigure workspace settings\\n\\n\\nSet up billing\\nUpdate invoice email, tax id and, business information\\nSet up access control (enterprise only)\\n\\nCreate a role\\nAssign a role to a user\\n\\n\\nSet up resource tags\\n\\nCreate a tag\\nAssign a tag to a resource\\nDelete a tag\\nFilter resources by tags\\n\\n\\nWas this page helpful?You can leave detailed feedback on GitHub.PreviousOptimize tracing spend on LangSmithNextCreate an account and API keyOrganization ManagementCommunityDiscordTwitterGitHubDocs CodeLangSmith SDKPythonJS/TSMoreHomepageBlogLangChain Python DocsLangChain JS/TS DocsCopyright © 2025 LangChain, Inc.')],\n",
       " 'answer': 'Here are answers to questions based on the provided context:\\n\\n1. **What types of guides are provided in the LangSmith Administration section?**\\n   - The LangSmith Administration section provides step-by-step guides for key tasks and operations such as organization management, setting up a workspace, setting up billing, and setting up resource tags.\\n\\n2. **What tasks are covered under Organization Management?**\\n   - Organization Management covers tasks like creating an account and API key, setting up an organization, managing and navigating workspaces, managing users, and managing your organization using the API.\\n\\n3. **What can you do under Workspace Setup?**\\n   - Under Workspace Setup, you can create a workspace, manage users, and configure workspace settings.\\n\\n4. **What billing-related tasks can be managed?**\\n   - You can update the invoice email, tax ID, and business information as well as set up access control for enterprise accounts.\\n\\n5. **What can you do with resource tags?**\\n   - You can create a tag, assign a tag to a resource, delete a tag, and filter resources by tags.'}"
      ]
     },
     "execution_count": 23,
     "metadata": {},
     "output_type": "execute_result"
    }
   ],
   "source": [
    "response"
   ]
  },
  {
   "cell_type": "code",
   "execution_count": 25,
   "metadata": {},
   "outputs": [
    {
     "data": {
      "text/plain": [
       "'Here are answers to questions based on the provided context:\\n\\n1. **What types of guides are provided in the LangSmith Administration section?**\\n   - The LangSmith Administration section provides step-by-step guides for key tasks and operations such as organization management, setting up a workspace, setting up billing, and setting up resource tags.\\n\\n2. **What tasks are covered under Organization Management?**\\n   - Organization Management covers tasks like creating an account and API key, setting up an organization, managing and navigating workspaces, managing users, and managing your organization using the API.\\n\\n3. **What can you do under Workspace Setup?**\\n   - Under Workspace Setup, you can create a workspace, manage users, and configure workspace settings.\\n\\n4. **What billing-related tasks can be managed?**\\n   - You can update the invoice email, tax ID, and business information as well as set up access control for enterprise accounts.\\n\\n5. **What can you do with resource tags?**\\n   - You can create a tag, assign a tag to a resource, delete a tag, and filter resources by tags.'"
      ]
     },
     "execution_count": 25,
     "metadata": {},
     "output_type": "execute_result"
    }
   ],
   "source": [
    "response[\"answer\"]"
   ]
  },
  {
   "cell_type": "code",
   "execution_count": null,
   "metadata": {},
   "outputs": [],
   "source": []
  }
 ],
 "metadata": {
  "kernelspec": {
   "display_name": "genai",
   "language": "python",
   "name": "python3"
  },
  "language_info": {
   "codemirror_mode": {
    "name": "ipython",
    "version": 3
   },
   "file_extension": ".py",
   "mimetype": "text/x-python",
   "name": "python",
   "nbconvert_exporter": "python",
   "pygments_lexer": "ipython3",
   "version": "3.11.4"
  }
 },
 "nbformat": 4,
 "nbformat_minor": 2
}
