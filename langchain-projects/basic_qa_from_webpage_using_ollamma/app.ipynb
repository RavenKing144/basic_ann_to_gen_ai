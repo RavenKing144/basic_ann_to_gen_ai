{
 "cells": [
  {
   "cell_type": "code",
   "execution_count": 5,
   "metadata": {},
   "outputs": [],
   "source": [
    "import os\n",
    "from dotenv import load_dotenv\n",
    "\n",
    "load_dotenv()\n",
    "\n",
    "os.environ[\"OPENAI_API_KEY\"] = os.getenv(\"OPENAI_API_KEY\")\n",
    "os.environ[\"LANGSMITH_API_KEY\"] = os.getenv(\"LANGSMITH_API_KEY\")  # langsmith tracking\n",
    "os.environ[\"LANGSMITH_TRACING\"] = os.getenv(\"LANGSMITH_TRACING\")\n",
    "os.environ[\"LANGSMITH_PROJECT\"] = os.getenv(\"LANGSMITH_PROJECT\")\n",
    "os.environ[\"LANGSMITH_ENDPOINT\"] = os.getenv(\"LANGSMITH_ENDPOINT\")"
   ]
  },
  {
   "cell_type": "code",
   "execution_count": 6,
   "metadata": {},
   "outputs": [
    {
     "name": "stdout",
     "output_type": "stream",
     "text": [
      "\u001b[?2026h\u001b[?25l\u001b[1G⠙ \u001b[K\u001b[?25h\u001b[?2026l\u001b[?2026h\u001b[?25l\u001b[1G⠹ \u001b[K\u001b[?25h\u001b[?2026l\u001b[?2026h\u001b[?25l\u001b[1G⠸ \u001b[K\u001b[?25h\u001b[?2026l\u001b[?2026h\u001b[?25l\u001b[1G⠸ \u001b[K\u001b[?25h\u001b[?2026l\u001b[?2026h\u001b[?25l\u001b[1G⠴ \u001b[K\u001b[?25h\u001b[?2026l\u001b[?2026h\u001b[?25l\u001b[1G⠦ \u001b[K\u001b[?25h\u001b[?2026l\u001b[?2026h\u001b[?25l\u001b[1G⠧ \u001b[K\u001b[?25h\u001b[?2026l\u001b[?2026h\u001b[?25l\u001b[1G⠇ \u001b[K\u001b[?25h\u001b[?2026l\u001b[?2026h\u001b[?25l\u001b[1G⠏ \u001b[K\u001b[?25h\u001b[?2026l\u001b[?25l\u001b[?2026h\u001b[?25l\u001b[1G\u001b[K\u001b[?25h\u001b[?2026l\u001b[2K\u001b[1G\u001b[?25h\u001b[?2004h>>> \u001b[38;5;245mSend a message (/? for help)\u001b[28D\u001b[0m\u001b[K\n",
      "Use Ctrl + d or /bye to exit.\n",
      ">>> \u001b[38;5;245mSend a message (/? for help)\u001b[28D\u001b[0m\u001b[K\n",
      ">>> \u001b[38;5;245mSend a message (/? for help)\u001b[28D\u001b[0m"
     ]
    }
   ],
   "source": [
    "!ollama run gemma:2b"
   ]
  },
  {
   "cell_type": "code",
   "execution_count": 9,
   "metadata": {},
   "outputs": [],
   "source": [
    "# Data Ingestion (scrape data from webpage)\n",
    "\n",
    "from langchain_community.document_loaders import WebBaseLoader\n"
   ]
  },
  {
   "cell_type": "code",
   "execution_count": 10,
   "metadata": {},
   "outputs": [],
   "source": [
    "loader = WebBaseLoader(\n",
    "    \"https://docs.smith.langchain.com/administration/concepts\"\n",
    ")"
   ]
  },
  {
   "cell_type": "code",
   "execution_count": 11,
   "metadata": {},
   "outputs": [
    {
     "data": {
      "text/plain": [
       "[Document(metadata={'source': 'https://docs.smith.langchain.com/administration/concepts', 'title': 'Concepts | 🦜️🛠️ LangSmith', 'description': 'This conceptual guide covers topics related to managing users, organizations, and workspaces within LangSmith.', 'language': 'en'}, page_content=\"\\n\\n\\n\\n\\nConcepts | 🦜️🛠️ LangSmith\\n\\n\\n\\n\\n\\n\\nSkip to main contentJoin us at  Interrupt: The Agent AI Conference by LangChain on May 13 & 14 in San Francisco!API ReferenceRESTPythonJS/TSSearchRegionUSEUGo to AppGet StartedObservabilityEvaluationPrompt EngineeringDeployment (LangGraph Platform)AdministrationTutorialsOptimize tracing spend on LangSmithHow-to GuidesSetupConceptual GuideSelf-hostingPricingReferenceCloud architecture and scalabilityAuthz and AuthnAuthentication methodsdata_formatsEvaluationDataset transformationsRegions FAQsdk_referenceAdministrationConceptual GuideOn this pageConcepts\\nThis conceptual guide covers topics related to managing users, organizations, and workspaces within LangSmith.\\nResource Hierarchy\\u200b\\nOrganizations\\u200b\\nAn organization is a logical grouping of users within LangSmith with its own billing configuration. Typically, there is one organization per company. An organization can have multiple workspaces. For more details, see the setup guide.\\nWhen you log in for the first time, a personal organization will be created for you automatically. If you'd like to collaborate with others, you can create a separate organization and invite your team members to join.\\nThere are a few important differences between your personal organization and shared organizations:\\nFeaturePersonalSharedMaximum workspaces1Variable, depending on plan (see pricing pageCollaborationCannot invite usersCan invite usersBilling: paid plansDeveloper plan onlyAll other plans available\\nWorkspaces\\u200b\\ninfoWorkspaces were formerly called Tenants. Some code and APIs may still reference the old name for a period of time during the transition.\\nA workspace is a logical grouping of users and resources within an organization. A workspace separates trust boundaries for resources and access control.\\nUsers may have permissions in a workspace that grant them access to the resources in that workspace, including tracing projects, datasets, annotation queues, and prompts. For more details, see the setup guide.\\nIt is recommended to create a separate workspace for each team within your organization. To organize resources even further, you can use Resource Tags to group resources within a workspace.\\nThe following image shows a sample workspace settings page:\\n\\nThe following diagram explains the relationship between organizations, workspaces, and the different resources scoped to and within a workspace:\\n\\n\\nSee the table below for details on which features are available in which scope (organization or workspace):\\nResource/SettingScopeTrace ProjectsWorkspaceAnnotation QueuesWorkspaceDeploymentsWorkspaceDatasets & ExperimentsWorkspacePromptsWorkspaceResource TagsWorkspaceAPI KeysWorkspaceSettings including Secrets, Feedback config, Models, Rules, and Shared URLsWorkspaceUser management: Invite User to WorkspaceWorkspaceRBAC: Assigning Workspace RolesWorkspaceData Retention, Usage LimitsWorkspace*Plans and Billing, Credits, InvoicesOrganizationUser management: Invite User to OrganizationOrganization**Adding WorkspacesOrganizationAssigning Organization RolesOrganizationRBAC: Creating/Editing/Deleting Custom RolesOrganization\\n*\\xa0Data retention settings and usage limits will be available soon for the organization level as well\\n**\\xa0Self-hosted installations may enable workspace-level invites of users to the organization via a feature flag.\\nSee the self-hosted user management docs for details.\\nResource tags\\u200b\\nResource tags allow you to organize resources within a workspaces. Each tag is a key-value pair that can be assigned to a resource.\\nTags can be used to filter workspace-scoped resources in the UI and API: Projects, Datasets, Annotation Queues, Deployments, and Experiments.\\nEach new workspace comes with two default tag keys: Application and Environment; as the names suggest, these tags can be used to categorize resources based on the application and environment they belong to.\\nMore tags can be added as needed.\\nLangSmith resource tags are very similar to tags in cloud services like AWS.\\n\\nUser Management and RBAC\\u200b\\nUsers\\u200b\\nA user is a person who has access to LangSmith. Users can be members of one or more organizations and workspaces within those organizations.\\nOrganization members are managed in organization settings:\\n\\nAnd workspace members are managed in workspace settings:\\n\\nAPI keys\\u200b\\nLegacy Keys deprecated as of October 22, 2024We ended support for legacy API keys prefixed with ls__ on October 22, 2024 in favor of personal access tokens (PATs) and service keys. We require using PATs and service keys for all new integrations. API keys prefixed with ls__ will no longer work as of October 22, 2024.\\nPersonal Access Tokens (PATs)\\u200b\\nPersonal Access Tokens (PATs) are used to authenticate requests to the LangSmith API. They are created by users and scoped to a user. The PAT will have the same permissions as the user that created it.\\nPATs are prefixed with lsv2_pt_\\nService keys\\u200b\\nService keys are similar to PATs, but are used to authenticate requests to the LangSmith API on behalf of a service account.\\nService keys are prefixed with lsv2_sk_\\nnoteTo see how to create a service key or Personal Access Token, see the setup guide\\nOrganization roles\\u200b\\nOrganization roles are distinct from the Enterprise feature (RBAC) below and are used in the context of multiple workspaces. Your organization role determines your workspace membership characteristics and your organization-level permissions. See the organization setup guide for more information.\\nThe organization role selected also impacts workspace membership as described here:\\n\\nOrganization Admin grants full access to manage all organization configuration, users, billing, and workspaces. An Organization Admin has Admin access to all workspaces in an organization\\nOrganization User may read organization information but cannot execute any write actions at the organization level. An Organization User can be added to a subset of workspaces and assigned workspace roles as usual (if RBAC is enabled), which specify permissions at the workspace level.\\n\\ninfoThe Organization User role is only available in organizations on plans with multiple workspaces. In organizations limited to a single workspace, all users are Organization Admins.\\nCustom organization-scoped roles are not available yet.\\nSee the table below for all organization permissions:\\nOrganization UserOrganization AdminView organization configuration✅✅View organization roles✅✅View organization members✅✅View data retention settings✅✅View usage limits✅✅Admin access to all workspaces✅Manage billing settings✅Create workspaces✅Create, edit, and delete organization roles✅Invite new users to organization✅Delete user invites✅Remove users from an organization✅Update data retention settings*✅Update usage limits*✅\\nWorkspace roles (RBAC)\\u200b\\nnoteRBAC (Role-Based Access Control) is a feature that is only available to Enterprise customers. If you are interested in this feature, please contact our sales team at sales@langchain.dev\\nOther plans default to using the Admin role for all users.\\nRoles are used to define the set of permissions that a user has within a workspace. There are three built-in system roles that cannot be edited:\\n\\nAdmin - has full access to all resources within the workspace\\nViewer - has read-only access to all resources within the workspace\\nEditor - has full permissions except for workspace management (adding/removing users, changing roles, configuring service keys)\\n\\nOrganization admins can also create/edit custom roles with specific permissions for different resources.\\nRoles can be managed in organization settings under the Roles tab:\\n\\nFor more details on assigning and creating roles, see the access control setup guide.\\nBest Practices\\u200b\\nEnvironment Separation\\u200b\\nUse resource tags to organize resources by environment using the default tag key Environment and different values for the environment (e.g. dev, staging, prod). This tagging structure will allow you to organize your tracing projects today and easily enforce\\npermissions when we release attribute based access control (ABAC). ABAC on the resource tag will provide a fine-grained way to restrict access to production tracing projects, for example. We do not recommend that you use Workspaces for environment separation as you cannot share resources\\nacross Workspaces. If you would like to promote a prompt from staging to prod, we recommend you use prompt tags instead. See docs for more information.\\nUsage and Billing\\u200b\\nData Retention\\u200b\\nIn May 2024, LangSmith introduced a maximum data retention period on traces of 400 days. In June 2024, LangSmith introduced\\na new data retention based pricing model where customers can configure a shorter data retention period on traces in exchange\\nfor savings up to 10x. On this page, we'll go through how data retention works and is priced in LangSmith.\\nWhy retention matters\\u200b\\n\\nPrivacy: Many data privacy regulations, such as GDPR in Europe or CCPA in California, require organizations to delete personal data\\nonce it's no longer necessary for the purposes for which it was collected. Setting retention periods aids in compliance with\\nsuch regulations.\\nCost: LangSmith charges less for traces that have low data retention. See our tutorial on how to optimize spend\\nfor details.\\n\\nHow it works\\u200b\\nLangSmith now has two tiers of traces based on Data Retention with the following characteristics:\\nBaseExtendedPrice$.50 / 1k traces$5 / 1k tracesRetention Period14 days400 days\\nData deletion after retention ends\\nAfter the specified retention period, traces are no longer accessible via the runs table or API. All user data associated\\nwith the trace (e.g. inputs and outputs) is deleted from our internal systems within a day thereafter. Some metadata\\nassociated with each trace may be retained indefinitely for analytics and billing purposes.\\nData retention auto-upgrades\\ncautionAuto upgrades can have an impact on your bill. Please read this section carefully to fully understand your\\nestimated LangSmith tracing costs.\\nWhen you use certain features with base tier traces, their data retention will be automatically upgraded to\\nextended tier. This will increase both the retention period, and the cost of the trace.\\nThe complete list of scenarios in which a trace will upgrade when:\\n\\nFeedback is added to any run on the trace\\nAn Annotation Queue receives any run from the trace\\nA Run Rule matches any run within a trace\\n\\nWhy auto-upgrade traces?\\nWe have two reasons behind the auto-upgrade model for tracing:\\n\\nWe think that traces that match any of these conditions are fundamentally more interesting than other traces, and\\ntherefore it is good for users to be able to keep them around longer.\\nWe philosophically want to charge customers an order of magnitude lower for traces that may not be interacted with meaningfully.\\nWe think auto-upgrades align our pricing model with the value that LangSmith brings, where only traces with meaningful interaction\\nare charged at a higher rate.\\n\\nIf you have questions or concerns about our pricing model, please feel free to reach out to support@langchain.dev and let us know your thoughts!\\nHow does data retention affect downstream features?\\n\\nAnnotation Queues, Run Rules, and Feedback: Traces that use these features will be auto-upgraded.\\nMonitoring: The monitoring tab will continue to work even after a base tier trace's data retention period ends. It is powered by\\ntrace metadata that exists for >30 days, meaning that your monitoring graphs will continue to stay accurate even on\\nbase tier traces.\\nDatasets: Datasets have an indefinite data retention period. Restated differently, if you add a trace's inputs and outputs to a dataset,\\nthey will never be deleted. We suggest that if you are using LangSmith for data collection, you take advantage of the datasets\\nfeature.\\n\\nBilling model\\u200b\\nBillable metrics\\nOn your LangSmith invoice, you will see two metrics that we charge for:\\n\\nLangSmith Traces (Base Charge)\\nLangSmith Traces (Extended Data Retention Upgrades).\\n\\nThe first metric includes all traces, regardless of tier. The second metric just counts the number of extended retention traces.\\nWhy measure all traces + upgrades instead of base and extended traces?\\nA natural question to ask when considering our pricing is why not just show the number of base tier and extended tier\\ntraces directly on the invoice?\\nWhile we understand this would be more straightforward, it doesn't fit trace upgrades properly. Consider a\\nbase tier trace that was recorded on June 30, and upgraded to extended tier on July 3. The base tier\\ntrace occurred in the June billing period, but the upgrade occurred in the July billing period. Therefore,\\nwe need to be able to measure these two events independently to properly bill our customers.\\nIf your trace was recorded as an extended retention trace, then the base and extended metrics will both be recorded\\nwith the same timestamp.\\nCost breakdown\\nThe Base Charge for a trace is .05¢ per trace. We priced the upgrade such that an extended retention trace\\ncosts 10x the price of a base tier trace (.50¢ per trace) including both metrics. Thus, each upgrade costs .45¢.\\nRate Limits\\u200b\\nLangSmith has rate limits which are designed to ensure the stability of the service for all users.\\nTo ensure access and stability, LangSmith will respond with HTTP Status Code 429 indicating that rate or usage limits have been exceeded under the following circumstances:\\nScenarios\\u200b\\nTemporary throughput limit over a 1 minute period at our application load balancer\\u200b\\nThis 429 is the the result of exceeding a fixed number of API calls over a 1 minute window on a per API key/access token basis. The start of the window will vary slightly — it is not guaranteed to start at the start of a clock minute — and may change depending on application deployment events.\\nAfter the max events are received we will respond with a 429 until 60 seconds from the start of the evaluation window has been reached and then the process repeats.\\nThis 429 is thrown by our application load balancer and is a mechanism in place for all LangSmith users independent of plan tier to ensure continuity of service for all users.\\nMethodEndpointLimitWindowDELETESessions301 minutePOST OR PATCHRuns50001 minutePOSTFeedback50001 minute**20001 minute\\nnoteThe LangSmith SDK takes steps to minimize the likelihood of reaching these limits on run-related endpoints by batching up to 100 runs from a single session ID into a single API call.\\nPlan-level hourly trace event limit\\u200b\\nThis 429 is the result of reaching your maximum hourly events ingested and is evaluated in a fixed window starting at the beginning of each clock hour in UTC and resets at the top of each new hour.\\nAn event in this context is the creation or update of a run. So if run is created, then subsequently updated in the same hourly window, that will count as 2 events against this limit.\\nThis is thrown by our application and varies by plan tier, with organizations on our Startup/Plus and Enterprise plan tiers having higher hourly limits than our Free and Developer Plan Tiers which are designed for personal use.\\nPlanLimitWindowDeveloper (no payment on file)50,000 events1 hourDeveloper (with payment on file)250,000 events1 hourStartup/Plus500,000 events1 hourEnterpriseCustomCustom\\nPlan-level hourly trace data ingest limit\\u200b\\nThis 429 is the result of reaching the maximum amount of data ingested across your trace inputs, outputs, and metadata and is evaluated in a fixed window starting at the beginning of each clock hour in UTC and resets at the top of each new hour.\\nTypically, inputs, outputs, and metadata are send on both run creation and update events. So if a run is created and is 2.0MB in size at creation, and 3.0MB in size when updated in the same hourly window, that will count as 5.0MB of storage against this limit.\\nThis is thrown by our application and varies by plan tier, with organizations on our Startup/Plus and Enterprise plan tiers having higher hourly limits than our Free and Developer Plan Tiers which are designed for personal use.\\nPlanLimitWindowDeveloper (no payment on file)500MB1 hourDeveloper (with payment on file)2.5GB1 hourStartup/Plus5.0GB1 hourEnterpriseCustomCustom\\nPlan-level monthly unique traces limit\\u200b\\nThis 429 is the result of reaching your maximum monthly traces ingested and is evaluated in a fixed window starting at the beginning of each calendar month in UTC and resets at the beginning of each new month.\\nThis is thrown by our application and applies only to the Developer Plan Tier when there is no payment method on file.\\nPlanLimitWindowDeveloper (no payment on file)5,000 traces1 month\\nSelf-configured monthly usage limits\\u200b\\nThis 429 is the result of reaching your usage limit as configured by your organization admin and is evaluated in a fixed window starting at the beginning of each calendar month in UTC and resets at the beginning of each new month.\\nThis is thrown by our application and varies by organization based on their configured settings.\\nHandling 429s responses in your application\\u200b\\nSince some 429 responses are temporary and may succeed on a successive call, if you are directly calling the LangSmith API in your application we recommend implementing retry logic with exponential backoff and jitter.\\nFor convenience, LangChain applications built with the LangSmith SDK has this capability built-in.\\nnoteIt is important to note that if you are saturating the endpoints for extended periods of time, retries may not be effective as your application will eventually run large enough backlogs to exhaust all retries.If that is the case, we would like to discuss your needs more specifically. Please reach out to LangSmith Support with details about your applications throughput needs and sample code and we can work with you to better understand whether the best approach is fixing a bug, changes to your application code, or a different LangSmith plan.\\nUsage Limits\\u200b\\nLangSmith lets you configure usage limits on tracing. Note that these are usage limits, not spend limits, which\\nmean they let you limit the quantity of occurrences of some event rather than the total amount you will spend.\\nLangSmith lets you set two different monthly limits, mirroring our Billable Metrics discussed in the aforementioned data retention guide:\\n\\nAll traces limit\\nExtended data retention traces limit\\n\\nThese let you limit the number of total traces, and extended data retention traces respectively.\\nProperties of usage limiting\\u200b\\nUsage limiting is approximate, meaning that we do not guarantee the exactness of the limit. In rare cases, there\\nmay be a small period of time where additional traces are processed above the limit threshold before usage limiting\\nbegins to apply.\\nSide effects of extended data retention traces limit\\u200b\\nThe extended data retention traces limit has side effects. If the limit is already reached, any feature that could\\ncause an auto-upgrade of tracing tiers becomes inaccessible. This is because an auto-upgrade of a trace would cause\\nanother extended retention trace to be created, which in turn should not be allowed by the limit. Therefore, you can\\nno longer:\\n\\nmatch run rules\\nadd feedback to traces\\nadd runs to annotation queues\\n\\nEach of these features may cause an auto upgrade, so we shut them off when the limit is reached.\\nUpdating usage limits\\u200b\\nUsage limits can be updated from the Settings page under Usage and Billing. Limit values are cached, so it\\nmay take a minute or two before the new limits apply.\\nRelated content\\u200b\\n\\nTutorial on how to optimize spend\\nWas this page helpful?You can leave detailed feedback on GitHub.PreviousSAML SSONextSelf-hostingResource HierarchyOrganizationsWorkspacesResource tagsUser Management and RBACUsersAPI keysOrganization rolesWorkspace roles (RBAC)Best PracticesEnvironment SeparationUsage and BillingData RetentionRate LimitsUsage LimitsRelated contentCommunityDiscordTwitterGitHubDocs CodeLangSmith SDKPythonJS/TSMoreHomepageBlogLangChain Python DocsLangChain JS/TS DocsCopyright © 2025 LangChain, Inc.\\n\\n\")]"
      ]
     },
     "execution_count": 11,
     "metadata": {},
     "output_type": "execute_result"
    }
   ],
   "source": [
    "loader.load()"
   ]
  },
  {
   "cell_type": "code",
   "execution_count": 12,
   "metadata": {},
   "outputs": [],
   "source": [
    "## Chunking\n",
    "from langchain_text_splitters import RecursiveCharacterTextSplitter\n",
    "\n",
    "splitter = RecursiveCharacterTextSplitter(\n",
    "    chunk_size = 1000,\n",
    "    chunk_overlap = 200\n",
    ")\n",
    "documents = splitter.split_documents(loader.load())"
   ]
  },
  {
   "cell_type": "code",
   "execution_count": 13,
   "metadata": {},
   "outputs": [
    {
     "name": "stderr",
     "output_type": "stream",
     "text": [
      "/var/folders/jj/z9jhw1z95m5bwpgdbhgbvct40000gn/T/ipykernel_36734/3058066653.py:4: LangChainDeprecationWarning: The class `OllamaEmbeddings` was deprecated in LangChain 0.3.1 and will be removed in 1.0.0. An updated version of the class exists in the :class:`~langchain-ollama package and should be used instead. To use it run `pip install -U :class:`~langchain-ollama` and import as `from :class:`~langchain_ollama import OllamaEmbeddings``.\n",
      "  OllamaEmbeddings(\n"
     ]
    }
   ],
   "source": [
    "## Embedding creation\n",
    "from langchain_community.embeddings import OllamaEmbeddings\n",
    "embeddings = (\n",
    "    OllamaEmbeddings(\n",
    "        model = \"gemma:2b\"\n",
    "    )\n",
    ")"
   ]
  },
  {
   "cell_type": "code",
   "execution_count": 14,
   "metadata": {},
   "outputs": [],
   "source": [
    "## Vector store creation\n",
    "\n",
    "from langchain_community.vectorstores import FAISS \n",
    "\n",
    "db = FAISS.from_documents(\n",
    "    documents,\n",
    "    embeddings\n",
    ")"
   ]
  },
  {
   "cell_type": "code",
   "execution_count": 15,
   "metadata": {},
   "outputs": [],
   "source": [
    "## query from vector store\n",
    "\n",
    "query = \"Roles are used to define the set of permissions that a user has within a workspace.\"\n",
    "\n",
    "result = db.similarity_search(\n",
    "    query=query\n",
    ")"
   ]
  },
  {
   "cell_type": "code",
   "execution_count": 16,
   "metadata": {},
   "outputs": [
    {
     "data": {
      "text/plain": [
       "'Organization Admin grants full access to manage all organization configuration, users, billing, and workspaces. An Organization Admin has Admin access to all workspaces in an organization\\nOrganization User may read organization information but cannot execute any write actions at the organization level. An Organization User can be added to a subset of workspaces and assigned workspace roles as usual (if RBAC is enabled), which specify permissions at the workspace level.'"
      ]
     },
     "execution_count": 16,
     "metadata": {},
     "output_type": "execute_result"
    }
   ],
   "source": [
    "result[0].page_content"
   ]
  },
  {
   "cell_type": "code",
   "execution_count": 17,
   "metadata": {},
   "outputs": [],
   "source": [
    "from langchain.chains.combine_documents import create_stuff_documents_chain\n",
    "from langchain_core.prompts import ChatPromptTemplate\n",
    "\n",
    "# prompt creation\n",
    "prompt = ChatPromptTemplate.from_messages([\n",
    "    (\"system\", \"You are a helpful assistant.\"),\n",
    "    (\"human\", \"\"\"Answer the following questions based only on the provided context:\n",
    "<context>\n",
    "{context}\n",
    "</context>\"\"\")\n",
    "])\n",
    "\n",
    "# llm setup\n",
    "from langchain_ollama import OllamaLLM\n",
    "llm = OllamaLLM(model=\"gemma:2b\")\n",
    "\n",
    "# retrival chain\n",
    "document_chain = create_stuff_documents_chain(\n",
    "    llm=llm,\n",
    "    prompt=prompt\n",
    ")\n",
    "\n",
    "from langchain_core.documents import Document\n",
    "result = document_chain.invoke(\n",
    "    {\n",
    "        \"input\":query,\n",
    "        \"context\": [\n",
    "            Document(page_content=query)\n",
    "        ]\n",
    "    }\n",
    ")"
   ]
  },
  {
   "cell_type": "code",
   "execution_count": 18,
   "metadata": {},
   "outputs": [
    {
     "data": {
      "text/plain": [
       "'Sure, I understand the context and can answer your questions based on the provided context. \\n\\nPlease ask your questions.'"
      ]
     },
     "execution_count": 18,
     "metadata": {},
     "output_type": "execute_result"
    }
   ],
   "source": [
    "result"
   ]
  },
  {
   "cell_type": "code",
   "execution_count": 19,
   "metadata": {},
   "outputs": [],
   "source": [
    "## Retriver\n",
    "retriver = db.as_retriever()\n",
    "\n",
    "from langchain.chains import create_retrieval_chain \n",
    "retriever_chain = create_retrieval_chain(\n",
    "    retriver,\n",
    "    document_chain\n",
    ")"
   ]
  },
  {
   "cell_type": "code",
   "execution_count": 20,
   "metadata": {},
   "outputs": [],
   "source": [
    "response = retriever_chain.invoke(\n",
    "    {\n",
    "        \"input\":query\n",
    "    }\n",
    ")"
   ]
  },
  {
   "cell_type": "code",
   "execution_count": 21,
   "metadata": {},
   "outputs": [
    {
     "data": {
      "text/plain": [
       "{'input': 'Roles are used to define the set of permissions that a user has within a workspace.',\n",
       " 'context': [Document(id='104c3322-c27e-4338-942e-4d2632f74aab', metadata={'source': 'https://docs.smith.langchain.com/administration/concepts', 'title': 'Concepts | 🦜️🛠️ LangSmith', 'description': 'This conceptual guide covers topics related to managing users, organizations, and workspaces within LangSmith.', 'language': 'en'}, page_content='Organization Admin grants full access to manage all organization configuration, users, billing, and workspaces. An Organization Admin has Admin access to all workspaces in an organization\\nOrganization User may read organization information but cannot execute any write actions at the organization level. An Organization User can be added to a subset of workspaces and assigned workspace roles as usual (if RBAC is enabled), which specify permissions at the workspace level.'),\n",
       "  Document(id='a564fb50-8f28-4cb8-ae82-d73d565ff0c7', metadata={'source': 'https://docs.smith.langchain.com/administration/concepts', 'title': 'Concepts | 🦜️🛠️ LangSmith', 'description': 'This conceptual guide covers topics related to managing users, organizations, and workspaces within LangSmith.', 'language': 'en'}, page_content=\"When you log in for the first time, a personal organization will be created for you automatically. If you'd like to collaborate with others, you can create a separate organization and invite your team members to join.\\nThere are a few important differences between your personal organization and shared organizations:\\nFeaturePersonalSharedMaximum workspaces1Variable, depending on plan (see pricing pageCollaborationCannot invite usersCan invite usersBilling: paid plansDeveloper plan onlyAll other plans available\\nWorkspaces\\u200b\\ninfoWorkspaces were formerly called Tenants. Some code and APIs may still reference the old name for a period of time during the transition.\\nA workspace is a logical grouping of users and resources within an organization. A workspace separates trust boundaries for resources and access control.\"),\n",
       "  Document(id='51b9bcc9-f057-4bdd-b148-2777e5e5a864', metadata={'source': 'https://docs.smith.langchain.com/administration/concepts', 'title': 'Concepts | 🦜️🛠️ LangSmith', 'description': 'This conceptual guide covers topics related to managing users, organizations, and workspaces within LangSmith.', 'language': 'en'}, page_content='Service keys are prefixed with lsv2_sk_\\nnoteTo see how to create a service key or Personal Access Token, see the setup guide\\nOrganization roles\\u200b\\nOrganization roles are distinct from the Enterprise feature (RBAC) below and are used in the context of multiple workspaces. Your organization role determines your workspace membership characteristics and your organization-level permissions. See the organization setup guide for more information.\\nThe organization role selected also impacts workspace membership as described here:'),\n",
       "  Document(id='76b9ac92-722e-40a0-9370-c6a9896356e2', metadata={'source': 'https://docs.smith.langchain.com/administration/concepts', 'title': 'Concepts | 🦜️🛠️ LangSmith', 'description': 'This conceptual guide covers topics related to managing users, organizations, and workspaces within LangSmith.', 'language': 'en'}, page_content='infoThe Organization User role is only available in organizations on plans with multiple workspaces. In organizations limited to a single workspace, all users are Organization Admins.\\nCustom organization-scoped roles are not available yet.\\nSee the table below for all organization permissions:\\nOrganization UserOrganization AdminView organization configuration✅✅View organization roles✅✅View organization members✅✅View data retention settings✅✅View usage limits✅✅Admin access to all workspaces✅Manage billing settings✅Create workspaces✅Create, edit, and delete organization roles✅Invite new users to organization✅Delete user invites✅Remove users from an organization✅Update data retention settings*✅Update usage limits*✅\\nWorkspace roles (RBAC)\\u200b\\nnoteRBAC (Role-Based Access Control) is a feature that is only available to Enterprise customers. If you are interested in this feature, please contact our sales team at sales@langchain.dev\\nOther plans default to using the Admin role for all users.')],\n",
       " 'answer': 'Sure, here are the answers to the questions:\\n\\n1. **What is the difference between a personal organization and a shared organization?**\\n - A personal organization is created for you automatically when you sign up.\\n - A shared organization is created by you and can be shared with others.\\n\\n\\n2. **What is the purpose of workspace roles?**\\n - Workspace roles are used to specify permissions at the workspace level, which define what users can do and access in that specific workspace.\\n\\n\\n3. **What are the organization roles?**\\n - The Organization User role is only available in organizations with multiple workspaces. In organizations limited to a single workspace, all users are Organization Admins.\\n\\n\\n4. **What is the purpose of workspace roles?**\\n - Workspace roles allow you to define permissions at the workspace level, which define what users can do and access in that specific workspace.\\n\\n\\n5. **What is the role of the Organization Admin in an organization?**\\n - An Organization Admin has full access to manage all organization configuration, users, billing, and workspaces.'}"
      ]
     },
     "execution_count": 21,
     "metadata": {},
     "output_type": "execute_result"
    }
   ],
   "source": [
    "response"
   ]
  },
  {
   "cell_type": "code",
   "execution_count": 22,
   "metadata": {},
   "outputs": [
    {
     "data": {
      "text/plain": [
       "'Sure, here are the answers to the questions:\\n\\n1. **What is the difference between a personal organization and a shared organization?**\\n - A personal organization is created for you automatically when you sign up.\\n - A shared organization is created by you and can be shared with others.\\n\\n\\n2. **What is the purpose of workspace roles?**\\n - Workspace roles are used to specify permissions at the workspace level, which define what users can do and access in that specific workspace.\\n\\n\\n3. **What are the organization roles?**\\n - The Organization User role is only available in organizations with multiple workspaces. In organizations limited to a single workspace, all users are Organization Admins.\\n\\n\\n4. **What is the purpose of workspace roles?**\\n - Workspace roles allow you to define permissions at the workspace level, which define what users can do and access in that specific workspace.\\n\\n\\n5. **What is the role of the Organization Admin in an organization?**\\n - An Organization Admin has full access to manage all organization configuration, users, billing, and workspaces.'"
      ]
     },
     "execution_count": 22,
     "metadata": {},
     "output_type": "execute_result"
    }
   ],
   "source": [
    "response[\"answer\"]"
   ]
  },
  {
   "cell_type": "code",
   "execution_count": null,
   "metadata": {},
   "outputs": [],
   "source": []
  }
 ],
 "metadata": {
  "kernelspec": {
   "display_name": "genai",
   "language": "python",
   "name": "python3"
  },
  "language_info": {
   "codemirror_mode": {
    "name": "ipython",
    "version": 3
   },
   "file_extension": ".py",
   "mimetype": "text/x-python",
   "name": "python",
   "nbconvert_exporter": "python",
   "pygments_lexer": "ipython3",
   "version": "3.11.4"
  }
 },
 "nbformat": 4,
 "nbformat_minor": 2
}
